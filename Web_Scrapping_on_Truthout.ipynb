{
 "cells": [
  {
   "cell_type": "code",
   "execution_count": 1,
   "id": "cf84f719",
   "metadata": {},
   "outputs": [],
   "source": [
    "#importing necessary libraries.\n",
    "import requests\n",
    "from bs4 import BeautifulSoup\n",
    "import pandas as pd"
   ]
  },
  {
   "cell_type": "code",
   "execution_count": 2,
   "id": "83fde943",
   "metadata": {},
   "outputs": [],
   "source": [
    "# Functions\n",
    "\n",
    "# Function to extract Articles Headlines\n",
    "def headlines(soupsss):\n",
    "    try:\n",
    "        title = soupsss.find(\"h1\", class_=\"ar__ti\")\n",
    "    # Ensure the tag was found\n",
    "        if title:\n",
    "        # Extract and clean the text\n",
    "            title_value = title.get_text(strip=True)\n",
    "            return title_value\n",
    "        else:\n",
    "            return \"Title not found\"\n",
    "    except Exception as e:\n",
    "        return f\"An error occurred: {e}\"\n",
    "#print(headlines(soupsss))\n",
    "\n",
    "# Function to extract Publishing date\n",
    "def date(soupsss):\n",
    "    try:\n",
    "        publish_date = soupsss.find(\"time\", class_=\"published updated meta-data d-inline mt-2 font-sans black-70\")\n",
    "    # Ensure the tag was found\n",
    "        if publish_date:\n",
    "        # Extract and clean the text\n",
    "            publish_date_value = publish_date.get_text(strip=True)\n",
    "            return publish_date_value\n",
    "        else:\n",
    "            return \"Title not found\"\n",
    "    except Exception as e:\n",
    "        return f\"An error occurred: {e}\"\n",
    "#print(date(soupsss))\n",
    "\n",
    "# Function to extract Articles' writer \n",
    "def author_name(soupsss):\n",
    "    try:\n",
    "        author = soupsss.find(\"a\", class_=\"byline__author__link url fn text-decoration-none black-70\")\n",
    "    # Ensure the tag was found\n",
    "        if author:\n",
    "        # Extract and clean the text\n",
    "            author_value = author.get_text(strip=True)\n",
    "            return author_value\n",
    "        else:\n",
    "            return \"Aurhor not found\"\n",
    "    except Exception as e:\n",
    "        return f\"An error occurred: {e}\"\n",
    "#print(author_name(soupsss))\n",
    "\n",
    "def articles(soupsss):\n",
    "    paragraphs = ''\n",
    "    # Find all elements in the order they appear\n",
    "    for tag in soupsss.find_all(True):  # `True` finds all tags\n",
    "        # Stop processing if the <div> with class \"truth-post-content-after\" is encountered\n",
    "        if tag.name == \"div\" and tag.get(\"class\") == [\"truth-post-content-after\"]:\n",
    "            break\n",
    "        # If the tag is a <p>, extract its text\n",
    "        if tag.name == \"p\":\n",
    "            paragraphs=paragraphs+ tag.get_text(strip=True)\n",
    "    \n",
    "    return paragraphs\n",
    "#print(articles(soupsss))"
   ]
  },
  {
   "cell_type": "code",
   "execution_count": 3,
   "id": "c7b5cf5b",
   "metadata": {},
   "outputs": [],
   "source": [
    "# Links\n",
    "current_page = 1\n",
    "\n",
    "link_data = []\n",
    "\n",
    "proceed = True\n",
    "\n",
    "while(proceed):\n",
    "    #print(\"Magic is happening on the page number: \"+str(current_page))\n",
    "    url = \"https://truthout.org/topics/donald-trump/page/\"+str(current_page)+\"/\"\n",
    "    \n",
    "    # Headers for request\n",
    "    HEADERS = ({'User-Agent':'Mozilla/5.0 (Windows NT 10.0; Win64; x64) AppleWebKit/537.36 (KHTML, like Gecko) Chrome/131.0.0.0 Safari/537.36', 'Accept-Language': 'en-US, en;q=0.5'}) \n",
    "\n",
    "    page = requests.get(url, headers=HEADERS)\n",
    "    soup = BeautifulSoup(page.text,\"html.parser\")\n",
    "\n",
    "    if soup.title.text == \"Page not found | Truthout\":\n",
    "        proceed = False\n",
    "    \n",
    "    else:\n",
    "        links = soup.find_all(\"h2\", attrs={'class':\"ar-list__ti mb-3 mb-md-2\"})\n",
    "        hrefs = [h2.find(\"a\")[\"href\"] for h2 in links]\n",
    "        link_data.append([h2.find(\"a\")[\"href\"] for h2 in links])\n",
    "\n",
    "    current_page += 1"
   ]
  },
  {
   "cell_type": "code",
   "execution_count": 4,
   "id": "3bd4eeb7",
   "metadata": {},
   "outputs": [],
   "source": [
    "# getting link list are inside of list\n",
    "final_links_list = [item for sublist in link_data for item in sublist]"
   ]
  },
  {
   "cell_type": "code",
   "execution_count": 6,
   "id": "2604c272",
   "metadata": {},
   "outputs": [
    {
     "data": {
      "text/plain": [
       "6813"
      ]
     },
     "execution_count": 6,
     "metadata": {},
     "output_type": "execute_result"
    }
   ],
   "source": [
    "len(final_links_list)"
   ]
  },
  {
   "cell_type": "code",
   "execution_count": null,
   "id": "83587286",
   "metadata": {},
   "outputs": [],
   "source": [
    "d = {\"Headlines\":[], \"Publish_date\":[], \"Writers\":[], \"Articles\":[]}\n",
    "    \n",
    "# Loop for extracting articles details from each link \n",
    "for link in final_links_list:\n",
    "    new_webpage = requests.get(link, headers=HEADERS)\n",
    "\n",
    "    new_soup = BeautifulSoup(new_webpage.content, \"html.parser\")\n",
    "\n",
    "    # Function calls to display all necessary articles information\n",
    "    d['Headlines'].append(headlines(new_soup))\n",
    "    d['Publish_date'].append(date(new_soup))\n",
    "    d['Writers'].append(author_name(new_soup))\n",
    "    d['Articles'].append(articles(new_soup))"
   ]
  },
  {
   "cell_type": "code",
   "execution_count": 8,
   "id": "8b266e19",
   "metadata": {},
   "outputs": [],
   "source": [
    "df= pd.DataFrame(d)\n",
    "df.to_csv(\"truthout1.csv\", header=True, index=False) #if you wanna save as .csv file"
   ]
  },
  {
   "cell_type": "code",
   "execution_count": null,
   "id": "8a5d5541",
   "metadata": {},
   "outputs": [],
   "source": []
  }
 ],
 "metadata": {
  "kernelspec": {
   "display_name": "Python 3 (ipykernel)",
   "language": "python",
   "name": "python3"
  },
  "language_info": {
   "codemirror_mode": {
    "name": "ipython",
    "version": 3
   },
   "file_extension": ".py",
   "mimetype": "text/x-python",
   "name": "python",
   "nbconvert_exporter": "python",
   "pygments_lexer": "ipython3",
   "version": "3.9.13"
  },
  "varInspector": {
   "cols": {
    "lenName": 16,
    "lenType": 16,
    "lenVar": 40
   },
   "kernels_config": {
    "python": {
     "delete_cmd_postfix": "",
     "delete_cmd_prefix": "del ",
     "library": "var_list.py",
     "varRefreshCmd": "print(var_dic_list())"
    },
    "r": {
     "delete_cmd_postfix": ") ",
     "delete_cmd_prefix": "rm(",
     "library": "var_list.r",
     "varRefreshCmd": "cat(var_dic_list()) "
    }
   },
   "types_to_exclude": [
    "module",
    "function",
    "builtin_function_or_method",
    "instance",
    "_Feature"
   ],
   "window_display": false
  }
 },
 "nbformat": 4,
 "nbformat_minor": 5
}
